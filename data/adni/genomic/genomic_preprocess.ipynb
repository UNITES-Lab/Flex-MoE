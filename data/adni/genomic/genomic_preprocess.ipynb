{
 "cells": [
  {
   "cell_type": "code",
   "execution_count": 1,
   "metadata": {},
   "outputs": [],
   "source": [
    "import pandas as pd\n",
    "from pandas_plink import read_plink1_bin, write_plink1_bin\n",
    "import numpy as np\n",
    "import anndata\n",
    "import os"
   ]
  },
  {
   "cell_type": "code",
   "execution_count": 2,
   "metadata": {},
   "outputs": [],
   "source": [
    "adni_1_path = 'ADNI_cluster_01_forward_757LONI'\n",
    "adni_2_1_path = 'ADNI_GO_2_Forward_Bin'\n",
    "adni_2_2_path = 'ADNI_GO2_GWAS_2nd_orig_BIN'\n",
    "adni_3_1_path = 'ADNI3_PLINK_Final'\n",
    "adni_3_2_path = 'ADNI3_PLINK_FINAL_2nd'"
   ]
  },
  {
   "cell_type": "markdown",
   "metadata": {},
   "source": [
    "# 1. Prepare liftover format"
   ]
  },
  {
   "cell_type": "code",
   "execution_count": 3,
   "metadata": {},
   "outputs": [],
   "source": [
    "adni_paths = [adni_1_path, adni_2_1_path, adni_2_2_path, adni_3_1_path, adni_3_2_path] \n",
    "\n",
    "for i in range(5):\n",
    "    df = pd.read_csv('./' + adni_paths[i] + '.bim', header=None, sep='\\t')\n",
    "    \n",
    "    valid_bases = ['A', 'C', 'G', 'T']\n",
    "    df_filtered = df[df[4].isin(valid_bases) & df[5].isin(valid_bases)]\n",
    "    df_filtered = df_filtered.reset_index(drop=True)\n",
    "    df_filtered.to_csv('./' + adni_paths[i] + '.bim', index=False, header=None, sep='\\t')"
   ]
  },
  {
   "cell_type": "code",
   "execution_count": 4,
   "metadata": {},
   "outputs": [],
   "source": [
    "adni_paths = [adni_1_path, adni_2_1_path, adni_2_2_path, adni_3_1_path, adni_3_2_path]\n",
    "save_paths = ['adni_1.bed', 'adni_2_1.bed', 'adni_2_2.bed', 'adni_3_1.bed', 'adni_3_2.bed']\n",
    "os.makedirs('./before_liftover', exist_ok=True)\n",
    "\n",
    "for i in range(len(adni_paths)):\n",
    "    bim_path = adni_paths[i]\n",
    "    save_path = './before_liftover/' + save_paths[i]\n",
    "    tmp = pd.read_csv(f'./{bim_path}.bim', header=None, sep='\\t')\n",
    "    \n",
    "    chr_id = tmp[0].replace({23: 'X', 24: 'Y'}).where((0 < tmp[0]) & (tmp[0] < 25), None)\n",
    "    \n",
    "    filtered_data = tmp[chr_id.notna()]\n",
    "    \n",
    "    new_tmp = pd.DataFrame({\n",
    "        '0': 'chr' + chr_id[chr_id.notna()].astype(str),\n",
    "        '1': filtered_data[3],\n",
    "        '2': filtered_data[3],\n",
    "        '3': filtered_data[1]\n",
    "    })\n",
    "    \n",
    "    new_tmp = new_tmp.reset_index(drop=True)\n",
    "    new_tmp.to_csv(save_path, index=False, sep='\\t', header=None)"
   ]
  },
  {
   "cell_type": "markdown",
   "metadata": {},
   "source": [
    "# 2. Run Liftover & Filtering"
   ]
  },
  {
   "cell_type": "code",
   "execution_count": 5,
   "metadata": {},
   "outputs": [],
   "source": [
    "### --------------- Liftover Process (Run following commandas at the terminal) --------------- ###\n",
    "# wget http://hgdownload.soe.ucsc.edu/admin/exe/linux.x86_64/liftOver\n",
    "# chmod +x liftOver\n",
    "# wget http://hgdownload.soe.ucsc.edu/goldenPath/hg18/liftOver/hg18ToHg38.over.chain.gz\n",
    "# ./liftOver ./before_liftover/adni_1.bed hg18ToHg38.over.chain.gz ./after_liftover/ADNI_1_Hg38.bed ./after_liftover/unlifted_ADNI_1_Hg38.bed \n",
    "# ./liftOver ./before_liftover/adni_2_1.bed hg18ToHg38.over.chain.gz ./after_liftover/ADNI_2_1_Hg38.bed ./after_liftover/unlifted_ADNI_2_1_Hg38.bed \n",
    "# ./liftOver ./before_liftover/adni_2_2.bed hg18ToHg38.over.chain.gz ./after_liftover/ADNI_2_2_Hg38.bed ./after_liftover/unlifted_ADNI_2_2_Hg38.bed \n",
    "# ./liftOver ./before_liftover/adni_3_1.bed hg18ToHg38.over.chain.gz ./after_liftover/ADNI_3_1_Hg38.bed ./after_liftover/unlifted_ADNI_3_1_Hg38.bed \n",
    "# ./liftOver ./before_liftover/adni_3_2.bed hg18ToHg38.over.chain.gz ./after_liftover/ADNI_3_2_Hg38.bed ./after_liftover/unlifted_ADNI_3_2_Hg38.bed "
   ]
  },
  {
   "cell_type": "code",
   "execution_count": 6,
   "metadata": {},
   "outputs": [],
   "source": [
    "# filtering\n",
    "os.makedirs('./after_liftover', exist_ok=True)\n",
    "after_liftover_paths = ['after_liftover/ADNI_1', 'after_liftover/ADNI_2_1', 'after_liftover/ADNI_2_2', 'after_liftover/ADNI_3_1', 'after_liftover/ADNI_3_2']\n",
    "\n",
    "for after_liftover_path in after_liftover_paths:\n",
    "    _tmp = pd.read_csv(f'./' + after_liftover_path + '_Hg38.bed', header=None, sep='\\t')\n",
    "    _tmp_filtered = _tmp[~_tmp[0].str.contains('_')]\n",
    "    _tmp_filtered.to_csv(f'./' + after_liftover_path + '_Hg38.bed', index=False, header=False, sep='\\t')"
   ]
  },
  {
   "cell_type": "markdown",
   "metadata": {},
   "source": [
    "# 3. Align .bim, .bed, .fam with liftover ids"
   ]
  },
  {
   "cell_type": "code",
   "execution_count": 7,
   "metadata": {},
   "outputs": [
    {
     "name": "stderr",
     "output_type": "stream",
     "text": [
      "Mapping files:   0%|          | 0/3 [00:00<?, ?it/s]/tmp/ipykernel_3706173/1774242314.py:10: FutureWarning: The 'delim_whitespace' keyword in pd.read_csv is deprecated and will be removed in a future version. Use ``sep='\\s+'`` instead\n",
      "  G = read_plink1_bin(adni_path+'.bed', adni_path+'.bim', adni_path+'.fam')\n",
      "Mapping files:  33%|███▎      | 1/3 [00:00<00:00,  2.32it/s]/tmp/ipykernel_3706173/1774242314.py:10: FutureWarning: The 'delim_whitespace' keyword in pd.read_csv is deprecated and will be removed in a future version. Use ``sep='\\s+'`` instead\n",
      "  G = read_plink1_bin(adni_path+'.bed', adni_path+'.bim', adni_path+'.fam')\n",
      "Mapping files: 100%|██████████| 3/3 [00:00<00:00,  4.15it/s]\n",
      "Writing BED: 100%|██████████| 2/2 [00:08<00:00,  4.08s/it]"
     ]
    },
    {
     "name": "stdout",
     "output_type": "stream",
     "text": [
      "Writing FAM... done.\n",
      "Writing BIM... "
     ]
    },
    {
     "name": "stderr",
     "output_type": "stream",
     "text": [
      "\n"
     ]
    },
    {
     "name": "stdout",
     "output_type": "stream",
     "text": [
      "done.\n"
     ]
    },
    {
     "name": "stderr",
     "output_type": "stream",
     "text": [
      "Mapping files:   0%|          | 0/3 [00:00<?, ?it/s]/tmp/ipykernel_3706173/1774242314.py:10: FutureWarning: The 'delim_whitespace' keyword in pd.read_csv is deprecated and will be removed in a future version. Use ``sep='\\s+'`` instead\n",
      "  G = read_plink1_bin(adni_path+'.bed', adni_path+'.bim', adni_path+'.fam')\n",
      "Mapping files:  33%|███▎      | 1/3 [00:00<00:00,  2.18it/s]/tmp/ipykernel_3706173/1774242314.py:10: FutureWarning: The 'delim_whitespace' keyword in pd.read_csv is deprecated and will be removed in a future version. Use ``sep='\\s+'`` instead\n",
      "  G = read_plink1_bin(adni_path+'.bed', adni_path+'.bim', adni_path+'.fam')\n",
      "Mapping files: 100%|██████████| 3/3 [00:00<00:00,  3.42it/s]\n",
      "Writing BED: 100%|██████████| 1/1 [00:03<00:00,  3.87s/it]"
     ]
    },
    {
     "name": "stdout",
     "output_type": "stream",
     "text": [
      "Writing FAM... done.\n",
      "Writing BIM... "
     ]
    },
    {
     "name": "stderr",
     "output_type": "stream",
     "text": [
      "\n"
     ]
    },
    {
     "name": "stdout",
     "output_type": "stream",
     "text": [
      "done.\n"
     ]
    },
    {
     "name": "stderr",
     "output_type": "stream",
     "text": [
      "Mapping files:   0%|          | 0/3 [00:00<?, ?it/s]/tmp/ipykernel_3706173/1774242314.py:10: FutureWarning: The 'delim_whitespace' keyword in pd.read_csv is deprecated and will be removed in a future version. Use ``sep='\\s+'`` instead\n",
      "  G = read_plink1_bin(adni_path+'.bed', adni_path+'.bim', adni_path+'.fam')\n",
      "Mapping files:  33%|███▎      | 1/3 [00:00<00:00,  2.29it/s]/tmp/ipykernel_3706173/1774242314.py:10: FutureWarning: The 'delim_whitespace' keyword in pd.read_csv is deprecated and will be removed in a future version. Use ``sep='\\s+'`` instead\n",
      "  G = read_plink1_bin(adni_path+'.bed', adni_path+'.bim', adni_path+'.fam')\n",
      "Mapping files: 100%|██████████| 3/3 [00:00<00:00,  4.20it/s]\n",
      "Writing BED: 100%|██████████| 1/1 [00:03<00:00,  3.61s/it]"
     ]
    },
    {
     "name": "stdout",
     "output_type": "stream",
     "text": [
      "Writing FAM... done.\n",
      "Writing BIM... "
     ]
    },
    {
     "name": "stderr",
     "output_type": "stream",
     "text": [
      "\n"
     ]
    },
    {
     "name": "stdout",
     "output_type": "stream",
     "text": [
      "done.\n"
     ]
    },
    {
     "name": "stderr",
     "output_type": "stream",
     "text": [
      "Mapping files:   0%|          | 0/3 [00:00<?, ?it/s]/tmp/ipykernel_3706173/1774242314.py:10: FutureWarning: The 'delim_whitespace' keyword in pd.read_csv is deprecated and will be removed in a future version. Use ``sep='\\s+'`` instead\n",
      "  G = read_plink1_bin(adni_path+'.bed', adni_path+'.bim', adni_path+'.fam')\n",
      "Mapping files:  33%|███▎      | 1/3 [00:00<00:00,  2.23it/s]/tmp/ipykernel_3706173/1774242314.py:10: FutureWarning: The 'delim_whitespace' keyword in pd.read_csv is deprecated and will be removed in a future version. Use ``sep='\\s+'`` instead\n",
      "  G = read_plink1_bin(adni_path+'.bed', adni_path+'.bim', adni_path+'.fam')\n",
      "Mapping files: 100%|██████████| 3/3 [00:00<00:00,  4.10it/s]\n",
      "Writing BED: 100%|██████████| 1/1 [00:03<00:00,  3.29s/it]"
     ]
    },
    {
     "name": "stdout",
     "output_type": "stream",
     "text": [
      "Writing FAM... done.\n",
      "Writing BIM... "
     ]
    },
    {
     "name": "stderr",
     "output_type": "stream",
     "text": [
      "\n"
     ]
    },
    {
     "name": "stdout",
     "output_type": "stream",
     "text": [
      "done.\n"
     ]
    },
    {
     "name": "stderr",
     "output_type": "stream",
     "text": [
      "Mapping files:   0%|          | 0/3 [00:00<?, ?it/s]/tmp/ipykernel_3706173/1774242314.py:10: FutureWarning: The 'delim_whitespace' keyword in pd.read_csv is deprecated and will be removed in a future version. Use ``sep='\\s+'`` instead\n",
      "  G = read_plink1_bin(adni_path+'.bed', adni_path+'.bim', adni_path+'.fam')\n",
      "Mapping files:  33%|███▎      | 1/3 [00:00<00:00,  2.33it/s]/tmp/ipykernel_3706173/1774242314.py:10: FutureWarning: The 'delim_whitespace' keyword in pd.read_csv is deprecated and will be removed in a future version. Use ``sep='\\s+'`` instead\n",
      "  G = read_plink1_bin(adni_path+'.bed', adni_path+'.bim', adni_path+'.fam')\n",
      "Mapping files: 100%|██████████| 3/3 [00:00<00:00,  4.25it/s]\n",
      "Writing BED: 100%|██████████| 1/1 [00:03<00:00,  3.21s/it]"
     ]
    },
    {
     "name": "stdout",
     "output_type": "stream",
     "text": [
      "Writing FAM... done.\n",
      "Writing BIM... "
     ]
    },
    {
     "name": "stderr",
     "output_type": "stream",
     "text": [
      "\n"
     ]
    },
    {
     "name": "stdout",
     "output_type": "stream",
     "text": [
      "done.\n"
     ]
    }
   ],
   "source": [
    "adni_paths = [adni_1_path, adni_2_1_path, adni_2_2_path, adni_3_1_path, adni_3_2_path]\n",
    "liftover_paths = ['after_liftover/ADNI_1', 'after_liftover/ADNI_2_1', 'after_liftover/ADNI_2_2', 'after_liftover/ADNI_3_1', 'after_liftover/ADNI_3_2']\n",
    "output_paths = ['liftovered/ADNI_1', 'liftovered/ADNI_2_1', 'liftovered/ADNI_2_2', 'liftovered/ADNI_3_1', 'liftovered/ADNI_3_2']\n",
    "os.makedirs('./liftovered', exist_ok=True)\n",
    "\n",
    "for i in range(5):\n",
    "    adni_path = './' + adni_paths[i]\n",
    "    liftover_path = './' + liftover_paths[i] + '_Hg38.bed'\n",
    "    output_path = './' + output_paths[i]\n",
    "    \n",
    "    G = read_plink1_bin(adni_path+'.bed', adni_path+'.bim', adni_path+'.fam')\n",
    "\n",
    "    # Read the liftover file to get the new SNP IDs\n",
    "    liftover = pd.read_csv(liftover_path, sep='\\t', header=None, names=['chr', 'pos1', 'pos2', 'id'])\n",
    "\n",
    "    # Find indices of the SNPs in bim that are present in the liftover file\n",
    "    indices = np.arange(G.shape[1])[(pd.DataFrame(G.snp)[0].isin(liftover['id']))]\n",
    "\n",
    "    if i == 0:\n",
    "        fam = pd.read_csv('./ADNI_cluster_01_forward_757LONI.fam', sep=' ', header=None, names=['fid', 'iid', 'father', 'mother', 'gender', 'trait'])\n",
    "        fam_indices = ~fam['iid'].isin(['073_S_0909', '130_S_1201'])\n",
    "        _G = G[fam_indices, indices]\n",
    "\n",
    "    else:\n",
    "        _G = G[:, indices]\n",
    "    \n",
    "    _G['chrom'] = ('variant', np.array(liftover['chr']))\n",
    "    _G['pos'] = ('variant', np.array(liftover['pos1']))\n",
    "    write_plink1_bin(_G, output_path+'.bed', output_path+'.bim', output_path+'.fam')"
   ]
  },
  {
   "cell_type": "code",
   "execution_count": 8,
   "metadata": {},
   "outputs": [
    {
     "name": "stderr",
     "output_type": "stream",
     "text": [
      "Mapping files:   0%|          | 0/3 [00:00<?, ?it/s]/tmp/ipykernel_3706173/1243287097.py:5: FutureWarning: The 'delim_whitespace' keyword in pd.read_csv is deprecated and will be removed in a future version. Use ``sep='\\s+'`` instead\n",
      "  G = read_plink1_bin(adni_path+'.bed', adni_path+'.bim', adni_path+'.fam')\n",
      "Mapping files:  33%|███▎      | 1/3 [00:00<00:00,  2.28it/s]/tmp/ipykernel_3706173/1243287097.py:5: FutureWarning: The 'delim_whitespace' keyword in pd.read_csv is deprecated and will be removed in a future version. Use ``sep='\\s+'`` instead\n",
      "  G = read_plink1_bin(adni_path+'.bed', adni_path+'.bim', adni_path+'.fam')\n",
      "Mapping files: 100%|██████████| 3/3 [00:00<00:00,  4.24it/s]\n",
      "Mapping files:   0%|          | 0/3 [00:00<?, ?it/s]/tmp/ipykernel_3706173/1243287097.py:5: FutureWarning: The 'delim_whitespace' keyword in pd.read_csv is deprecated and will be removed in a future version. Use ``sep='\\s+'`` instead\n",
      "  G = read_plink1_bin(adni_path+'.bed', adni_path+'.bim', adni_path+'.fam')\n",
      "Mapping files:  33%|███▎      | 1/3 [00:00<00:00,  2.38it/s]/tmp/ipykernel_3706173/1243287097.py:5: FutureWarning: The 'delim_whitespace' keyword in pd.read_csv is deprecated and will be removed in a future version. Use ``sep='\\s+'`` instead\n",
      "  G = read_plink1_bin(adni_path+'.bed', adni_path+'.bim', adni_path+'.fam')\n",
      "Mapping files: 100%|██████████| 3/3 [00:00<00:00,  4.26it/s]\n",
      "Mapping files:   0%|          | 0/3 [00:00<?, ?it/s]/tmp/ipykernel_3706173/1243287097.py:5: FutureWarning: The 'delim_whitespace' keyword in pd.read_csv is deprecated and will be removed in a future version. Use ``sep='\\s+'`` instead\n",
      "  G = read_plink1_bin(adni_path+'.bed', adni_path+'.bim', adni_path+'.fam')\n",
      "Mapping files:  33%|███▎      | 1/3 [00:00<00:00,  2.29it/s]/tmp/ipykernel_3706173/1243287097.py:5: FutureWarning: The 'delim_whitespace' keyword in pd.read_csv is deprecated and will be removed in a future version. Use ``sep='\\s+'`` instead\n",
      "  G = read_plink1_bin(adni_path+'.bed', adni_path+'.bim', adni_path+'.fam')\n",
      "Mapping files: 100%|██████████| 3/3 [00:00<00:00,  3.56it/s]\n",
      "Mapping files:   0%|          | 0/3 [00:00<?, ?it/s]/tmp/ipykernel_3706173/1243287097.py:5: FutureWarning: The 'delim_whitespace' keyword in pd.read_csv is deprecated and will be removed in a future version. Use ``sep='\\s+'`` instead\n",
      "  G = read_plink1_bin(adni_path+'.bed', adni_path+'.bim', adni_path+'.fam')\n",
      "Mapping files:  33%|███▎      | 1/3 [00:00<00:00,  2.34it/s]/tmp/ipykernel_3706173/1243287097.py:5: FutureWarning: The 'delim_whitespace' keyword in pd.read_csv is deprecated and will be removed in a future version. Use ``sep='\\s+'`` instead\n",
      "  G = read_plink1_bin(adni_path+'.bed', adni_path+'.bim', adni_path+'.fam')\n",
      "Mapping files: 100%|██████████| 3/3 [00:00<00:00,  4.22it/s]\n",
      "Mapping files:   0%|          | 0/3 [00:00<?, ?it/s]/tmp/ipykernel_3706173/1243287097.py:5: FutureWarning: The 'delim_whitespace' keyword in pd.read_csv is deprecated and will be removed in a future version. Use ``sep='\\s+'`` instead\n",
      "  G = read_plink1_bin(adni_path+'.bed', adni_path+'.bim', adni_path+'.fam')\n",
      "Mapping files:  33%|███▎      | 1/3 [00:00<00:00,  2.34it/s]/tmp/ipykernel_3706173/1243287097.py:5: FutureWarning: The 'delim_whitespace' keyword in pd.read_csv is deprecated and will be removed in a future version. Use ``sep='\\s+'`` instead\n",
      "  G = read_plink1_bin(adni_path+'.bed', adni_path+'.bim', adni_path+'.fam')\n",
      "Mapping files: 100%|██████████| 3/3 [00:00<00:00,  4.21it/s]\n"
     ]
    }
   ],
   "source": [
    "G_list = []\n",
    "for i in range(5):\n",
    "    adni_path = './' + output_paths[i]\n",
    "    \n",
    "    G = read_plink1_bin(adni_path+'.bed', adni_path+'.bim', adni_path+'.fam')\n",
    "    G_list.append(G)"
   ]
  },
  {
   "cell_type": "markdown",
   "metadata": {},
   "source": [
    "# 4.Merge using plink on your local enviroment"
   ]
  },
  {
   "cell_type": "code",
   "execution_count": 9,
   "metadata": {},
   "outputs": [],
   "source": [
    "### --------------- Merge using plink (Run following commandas at the terminal) --------------- ###\n",
    "# wget https://s3.amazonaws.com/plink1-assets/plink_linux_x86_64_20241022.zip\n",
    "# unzip plink_linux_x86_64_20241022.zip -d plink_install\n",
    "# cd plink_install\n",
    "# cp plink /usr/local/bin\n",
    "# sudo cp plink /usr/local/bin\n",
    "# sudo chmod 755 /usr/local/bin/plink\n",
    "# sudo nano ~/.bashrc -> export PATH=/usr/local/bin:$PATH\n",
    "# cd ..\n",
    "# echo \"./liftovered/ADNI_2_1\" > ./liftovered/all_datasets.txt\n",
    "# echo \"./liftovered/ADNI_2_2\" >> ./liftovered/all_datasets.txt\n",
    "# echo \"./liftovered/ADNI_3_1\" >> ./liftovered/all_datasets.txt\n",
    "# echo \"./liftovered/ADNI_3_2\" >> ./liftovered/all_datasets.txt\n",
    "# plink --bfile ./liftovered/ADNI_1 --merge-list ./liftovered/all_datasets.txt --make-bed --out ./liftovered/ADNI_merged"
   ]
  },
  {
   "cell_type": "code",
   "execution_count": 10,
   "metadata": {},
   "outputs": [],
   "source": [
    "### --------------- LD pruning using plink (Run following commandas at the terminal) --------------- ###\n",
    "# plink --bfile ./liftovered/ADNI_merged --indep-pairwise 50 5 0.1 --out ./liftovered/ADNI_merged_pruned\n",
    "# plink --bfile ./liftovered/ADNI_merged --extract ./liftovered/ADNI_merged_pruned.prune.in --make-bed --out ./liftovered/ADNI_final"
   ]
  },
  {
   "cell_type": "code",
   "execution_count": 11,
   "metadata": {},
   "outputs": [
    {
     "name": "stderr",
     "output_type": "stream",
     "text": [
      "Mapping files:   0%|          | 0/3 [00:00<?, ?it/s]/tmp/ipykernel_3706173/1561454553.py:2: FutureWarning: The 'delim_whitespace' keyword in pd.read_csv is deprecated and will be removed in a future version. Use ``sep='\\s+'`` instead\n",
      "  G_merge = read_plink1_bin(merged_path+'.bed', merged_path+'.bim', merged_path+'.fam')\n",
      "Mapping files:  33%|███▎      | 1/3 [00:00<00:00,  8.38it/s]/tmp/ipykernel_3706173/1561454553.py:2: FutureWarning: The 'delim_whitespace' keyword in pd.read_csv is deprecated and will be removed in a future version. Use ``sep='\\s+'`` instead\n",
      "  G_merge = read_plink1_bin(merged_path+'.bed', merged_path+'.bim', merged_path+'.fam')\n",
      "Mapping files: 100%|██████████| 3/3 [00:00<00:00, 11.77it/s]\n"
     ]
    }
   ],
   "source": [
    "merged_path = \"./liftovered/ADNI_final\"\n",
    "G_merge = read_plink1_bin(merged_path+'.bed', merged_path+'.bim', merged_path+'.fam')\n",
    "\n",
    "genotype_df = G_merge.to_pandas()\n",
    "genotype_df.columns = G_merge.snp\n",
    "\n",
    "adata = anndata.AnnData(X=genotype_df.values,\n",
    "                        obs=pd.DataFrame(index=genotype_df.index),\n",
    "                        var=pd.DataFrame(index=genotype_df.columns))\n",
    "\n",
    "adata.write_h5ad(\"genomic_merged.h5ad\")"
   ]
  }
 ],
 "metadata": {
  "kernelspec": {
   "display_name": "admoe",
   "language": "python",
   "name": "python3"
  },
  "language_info": {
   "codemirror_mode": {
    "name": "ipython",
    "version": 3
   },
   "file_extension": ".py",
   "mimetype": "text/x-python",
   "name": "python",
   "nbconvert_exporter": "python",
   "pygments_lexer": "ipython3",
   "version": "3.9.19"
  }
 },
 "nbformat": 4,
 "nbformat_minor": 4
}
